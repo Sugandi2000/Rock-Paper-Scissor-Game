{
 "cells": [
  {
   "cell_type": "code",
   "execution_count": 2,
   "id": "87c600fd-1611-4c6f-a4d1-edd02ecfa7e0",
   "metadata": {},
   "outputs": [
    {
     "name": "stdout",
     "output_type": "stream",
     "text": [
      "Collecting images for Rock\n",
      "Collecting images for Paper\n",
      "Collecting images for Scissor\n"
     ]
    }
   ],
   "source": [
    "import cv2\n",
    "import time\n",
    "import os\n",
    "import uuid\n",
    "\n",
    "img_path = 'Tensorflow/workspace/images/allimg'\n",
    "labels = ['Rock', 'Paper', 'Scissor']\n",
    "noof_img = 70\n",
    "\n",
    "for l in labels:\n",
    "    os.makedirs(os.path.join(img_path, l), exist_ok=True)\n",
    "    \n",
    "    cap = cv2.VideoCapture(0)\n",
    "    if not cap.isOpened():\n",
    "        print(f\"Error: Could not open camera for label '{l}'\")\n",
    "        continue\n",
    "\n",
    "    print(f'Collecting images for {l}')\n",
    "    time.sleep(5)\n",
    "\n",
    "    for img_no in range(noof_img):\n",
    "        ret, frame = cap.read()\n",
    "        if not ret:\n",
    "            print(f\"Error: Failed to capture image {img_no} for label '{l}'\")\n",
    "            continue\n",
    "\n",
    "        img_name = os.path.join(img_path, l, l + '.' + '{}.jpg'.format(str(uuid.uuid1())))\n",
    "        cv2.imwrite(img_name, frame)\n",
    "        cv2.imshow('frame', frame)\n",
    "        time.sleep(2)\n",
    "\n",
    "        if cv2.waitKey(1) & 0xFF == ord('q'):\n",
    "            break\n",
    "    \n",
    "    cap.release()\n",
    "\n",
    "cv2.destroyAllWindows()"
   ]
  },
  {
   "cell_type": "code",
   "execution_count": null,
   "id": "da584233-6a4f-43c6-9f6d-cf02175a70ba",
   "metadata": {},
   "outputs": [],
   "source": []
  }
 ],
 "metadata": {
  "kernelspec": {
   "display_name": "Python 3 (ipykernel)",
   "language": "python",
   "name": "python3"
  },
  "language_info": {
   "codemirror_mode": {
    "name": "ipython",
    "version": 3
   },
   "file_extension": ".py",
   "mimetype": "text/x-python",
   "name": "python",
   "nbconvert_exporter": "python",
   "pygments_lexer": "ipython3",
   "version": "3.11.7"
  }
 },
 "nbformat": 4,
 "nbformat_minor": 5
}
