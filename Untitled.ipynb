{
 "cells": [
  {
   "cell_type": "code",
   "execution_count": 3,
   "id": "e3460226-cbd8-462c-a879-c4cb849f549a",
   "metadata": {},
   "outputs": [],
   "source": [
    "import cv2\n",
    "import time \n",
    "import os\n",
    "import uuid"
   ]
  },
  {
   "cell_type": "code",
   "execution_count": 4,
   "id": "fa000f9b-3e56-4af9-8d36-c7782607113b",
   "metadata": {},
   "outputs": [],
   "source": [
    "img_path = 'Tensorflow/workspace/images/allimg'\n",
    "labels = ['Rock' , 'Paper' , 'Scissor']\n",
    "noof_img = 45"
   ]
  },
  {
   "cell_type": "code",
   "execution_count": 6,
   "id": "52271670-1e98-42e5-813b-9f1ec08dbfa6",
   "metadata": {},
   "outputs": [
    {
     "name": "stderr",
     "output_type": "stream",
     "text": [
      "The system cannot find the path specified.\n"
     ]
    },
    {
     "name": "stdout",
     "output_type": "stream",
     "text": [
      "image for\n"
     ]
    },
    {
     "ename": "error",
     "evalue": "OpenCV(4.10.0) D:\\a\\opencv-python\\opencv-python\\opencv\\modules\\imgcodecs\\src\\loadsave.cpp:798: error: (-215:Assertion failed) !_img.empty() in function 'cv::imwrite'\n",
     "output_type": "error",
     "traceback": [
      "\u001b[1;31m---------------------------------------------------------------------------\u001b[0m",
      "\u001b[1;31merror\u001b[0m                                     Traceback (most recent call last)",
      "Cell \u001b[1;32mIn[6], line 9\u001b[0m\n\u001b[0;32m      7\u001b[0m ret, frame \u001b[38;5;241m=\u001b[39m cap\u001b[38;5;241m.\u001b[39mread()\n\u001b[0;32m      8\u001b[0m img_name \u001b[38;5;241m=\u001b[39m os\u001b[38;5;241m.\u001b[39mpath\u001b[38;5;241m.\u001b[39mjoin(img_path , l, l\u001b[38;5;241m+\u001b[39m \u001b[38;5;124m'\u001b[39m\u001b[38;5;124m.\u001b[39m\u001b[38;5;124m'\u001b[39m \u001b[38;5;241m+\u001b[39m \u001b[38;5;124m'\u001b[39m\u001b[38;5;132;01m{}\u001b[39;00m\u001b[38;5;124m.jpg\u001b[39m\u001b[38;5;124m'\u001b[39m \u001b[38;5;241m.\u001b[39m \u001b[38;5;28mformat\u001b[39m(\u001b[38;5;28mstr\u001b[39m(uuid\u001b[38;5;241m.\u001b[39muuid1())))\n\u001b[1;32m----> 9\u001b[0m cv2\u001b[38;5;241m.\u001b[39mimwrite(img_name,frame)\n\u001b[0;32m     10\u001b[0m cv2\u001b[38;5;241m.\u001b[39mimshow(\u001b[38;5;124m'\u001b[39m\u001b[38;5;124mframe\u001b[39m\u001b[38;5;124m'\u001b[39m, frame)\n\u001b[0;32m     11\u001b[0m time\u001b[38;5;241m.\u001b[39msleep(\u001b[38;5;241m2\u001b[39m)\n",
      "\u001b[1;31merror\u001b[0m: OpenCV(4.10.0) D:\\a\\opencv-python\\opencv-python\\opencv\\modules\\imgcodecs\\src\\loadsave.cpp:798: error: (-215:Assertion failed) !_img.empty() in function 'cv::imwrite'\n"
     ]
    }
   ],
   "source": [
    "for l in labels:\n",
    "    !mkdir{ 'Tensorflow\\workspace\\images\\allimg\\\\'+l}\n",
    "    cap = cv2.VideoCapture(0)\n",
    "    print('image for'.format(l))\n",
    "    time.sleep(5)\n",
    "    for img_no in range(noof_img):\n",
    "        ret, frame = cap.read()\n",
    "        img_name = os.path.join(img_path , l, l+ '.' + '{}.jpg' . format(str(uuid.uuid1())))\n",
    "        cv2.imwrite(img_name,frame)\n",
    "        cv2.imshow('frame', frame)\n",
    "        time.sleep(2)\n",
    "        if cv2.waitKey(1) & 0xFF == ord('q'):\n",
    "            break\n",
    "        cap.release()"
   ]
  },
  {
   "cell_type": "code",
   "execution_count": 12,
   "id": "9493a3ff-1a85-4a4b-9d1b-a8e261380931",
   "metadata": {},
   "outputs": [
    {
     "name": "stdout",
     "output_type": "stream",
     "text": [
      "Capturing images for Rock\n",
      "Failed to capture image\n",
      "Capturing images for Paper\n"
     ]
    },
    {
     "ename": "error",
     "evalue": "OpenCV(4.9.0) D:\\a\\opencv-python\\opencv-python\\opencv\\modules\\highgui\\src\\window.cpp:1272: error: (-2:Unspecified error) The function is not implemented. Rebuild the library with Windows, GTK+ 2.x or Cocoa support. If you are on Ubuntu or Debian, install libgtk2.0-dev and pkg-config, then re-run cmake or configure script in function 'cvShowImage'\n",
     "output_type": "error",
     "traceback": [
      "\u001b[1;31m---------------------------------------------------------------------------\u001b[0m",
      "\u001b[1;31merror\u001b[0m                                     Traceback (most recent call last)",
      "Cell \u001b[1;32mIn[12], line 31\u001b[0m\n\u001b[0;32m     28\u001b[0m cv2\u001b[38;5;241m.\u001b[39mimwrite(img_name, frame)\n\u001b[0;32m     30\u001b[0m \u001b[38;5;66;03m# Display the frame\u001b[39;00m\n\u001b[1;32m---> 31\u001b[0m cv2\u001b[38;5;241m.\u001b[39mimshow(\u001b[38;5;124m'\u001b[39m\u001b[38;5;124mframe\u001b[39m\u001b[38;5;124m'\u001b[39m, frame)\n\u001b[0;32m     32\u001b[0m time\u001b[38;5;241m.\u001b[39msleep(\u001b[38;5;241m2\u001b[39m)\n\u001b[0;32m     34\u001b[0m \u001b[38;5;66;03m# Break loop if 'q' is pressed\u001b[39;00m\n",
      "\u001b[1;31merror\u001b[0m: OpenCV(4.9.0) D:\\a\\opencv-python\\opencv-python\\opencv\\modules\\highgui\\src\\window.cpp:1272: error: (-2:Unspecified error) The function is not implemented. Rebuild the library with Windows, GTK+ 2.x or Cocoa support. If you are on Ubuntu or Debian, install libgtk2.0-dev and pkg-config, then re-run cmake or configure script in function 'cvShowImage'\n"
     ]
    }
   ],
   "source": [
    "import cv2\n",
    "import time\n",
    "import os\n",
    "import uuid\n",
    "\n",
    "# Path to save images\n",
    "img_path = 'Tensorflow/workspace/images/allimg'\n",
    "labels = ['Rock', 'Paper', 'Scissor']\n",
    "noof_img = 45\n",
    "\n",
    "for l in labels:\n",
    "    # Create directory for each label if it doesn't exist\n",
    "    dir_path = os.path.join(img_path, l)\n",
    "    os.makedirs(dir_path, exist_ok=True)\n",
    "\n",
    "    cap = cv2.VideoCapture(0)\n",
    "    print(f'Capturing images for {l}')\n",
    "    time.sleep(5)\n",
    "\n",
    "    for img_no in range(noof_img):\n",
    "        ret, frame = cap.read()\n",
    "        if not ret:\n",
    "            print(\"Failed to capture image\")\n",
    "            break\n",
    "        \n",
    "        # Construct image file name\n",
    "        img_name = os.path.join(dir_path, f'{l}_{uuid.uuid1()}.jpg')\n",
    "        cv2.imwrite(img_name, frame)\n",
    "\n",
    "        # Display the frame\n",
    "        cv2.imshow('frame', frame)\n",
    "        time.sleep(2)\n",
    "\n",
    "        # Break loop if 'q' is pressed\n",
    "        if cv2.waitKey(1) & 0xFF == ord('q'):\n",
    "            break\n",
    "\n",
    "    cap.release()\n",
    "\n",
    "cv2.destroyAllWindows()\n"
   ]
  },
  {
   "cell_type": "code",
   "execution_count": 13,
   "id": "ac69c8c5-5386-429f-b47a-681bb75a36d6",
   "metadata": {},
   "outputs": [
    {
     "ename": "error",
     "evalue": "OpenCV(4.9.0) D:\\a\\opencv-python\\opencv-python\\opencv\\modules\\highgui\\src\\window.cpp:1272: error: (-2:Unspecified error) The function is not implemented. Rebuild the library with Windows, GTK+ 2.x or Cocoa support. If you are on Ubuntu or Debian, install libgtk2.0-dev and pkg-config, then re-run cmake or configure script in function 'cvShowImage'\n",
     "output_type": "error",
     "traceback": [
      "\u001b[1;31m---------------------------------------------------------------------------\u001b[0m",
      "\u001b[1;31merror\u001b[0m                                     Traceback (most recent call last)",
      "Cell \u001b[1;32mIn[13], line 9\u001b[0m\n\u001b[0;32m      6\u001b[0m cv2\u001b[38;5;241m.\u001b[39mputText(image, \u001b[38;5;124m'\u001b[39m\u001b[38;5;124mTest\u001b[39m\u001b[38;5;124m'\u001b[39m, (\u001b[38;5;241m10\u001b[39m, \u001b[38;5;241m50\u001b[39m), cv2\u001b[38;5;241m.\u001b[39mFONT_HERSHEY_SIMPLEX, \u001b[38;5;241m1\u001b[39m, (\u001b[38;5;241m255\u001b[39m, \u001b[38;5;241m255\u001b[39m, \u001b[38;5;241m255\u001b[39m), \u001b[38;5;241m2\u001b[39m)\n\u001b[0;32m      8\u001b[0m \u001b[38;5;66;03m# Try to display the image\u001b[39;00m\n\u001b[1;32m----> 9\u001b[0m cv2\u001b[38;5;241m.\u001b[39mimshow(\u001b[38;5;124m'\u001b[39m\u001b[38;5;124mTest Image\u001b[39m\u001b[38;5;124m'\u001b[39m, image)\n\u001b[0;32m     10\u001b[0m cv2\u001b[38;5;241m.\u001b[39mwaitKey(\u001b[38;5;241m0\u001b[39m)\n\u001b[0;32m     11\u001b[0m cv2\u001b[38;5;241m.\u001b[39mdestroyAllWindows()\n",
      "\u001b[1;31merror\u001b[0m: OpenCV(4.9.0) D:\\a\\opencv-python\\opencv-python\\opencv\\modules\\highgui\\src\\window.cpp:1272: error: (-2:Unspecified error) The function is not implemented. Rebuild the library with Windows, GTK+ 2.x or Cocoa support. If you are on Ubuntu or Debian, install libgtk2.0-dev and pkg-config, then re-run cmake or configure script in function 'cvShowImage'\n"
     ]
    }
   ],
   "source": [
    "import cv2\n",
    "import numpy as np\n",
    "\n",
    "# Create a simple image\n",
    "image = np.zeros((100, 100, 3), dtype=np.uint8)\n",
    "cv2.putText(image, 'Test', (10, 50), cv2.FONT_HERSHEY_SIMPLEX, 1, (255, 255, 255), 2)\n",
    "\n",
    "# Try to display the image\n",
    "cv2.imshow('Test Image', image)\n",
    "cv2.waitKey(0)\n",
    "cv2.destroyAllWindows()\n"
   ]
  },
  {
   "cell_type": "code",
   "execution_count": 14,
   "id": "0646cc83-0d55-4791-966c-2fe069bbc432",
   "metadata": {},
   "outputs": [
    {
     "name": "stderr",
     "output_type": "stream",
     "text": [
      "WARNING: Skipping opencv-python as it is not installed.\n",
      "WARNING: Skipping opencv-python-headless as it is not installed.\n"
     ]
    }
   ],
   "source": [
    "!pip uninstall -y opencv-python opencv-python-headless"
   ]
  },
  {
   "cell_type": "code",
   "execution_count": 15,
   "id": "ff9fac86-7093-429f-9efa-c7e118d2b9dc",
   "metadata": {},
   "outputs": [
    {
     "name": "stderr",
     "output_type": "stream",
     "text": [
      "'grep' is not recognized as an internal or external command,\n",
      "operable program or batch file.\n"
     ]
    }
   ],
   "source": [
    "!pip list | grep opencv"
   ]
  },
  {
   "cell_type": "code",
   "execution_count": 17,
   "id": "538190fe-e2d2-4b62-b900-add10c3a5258",
   "metadata": {},
   "outputs": [
    {
     "name": "stdout",
     "output_type": "stream",
     "text": [
      "['opencv-python-headless', 'opencv-python']\n"
     ]
    }
   ],
   "source": [
    "import pkg_resources\n",
    "\n",
    "# List installed packages\n",
    "installed_packages = [pkg.key for pkg in pkg_resources.working_set]\n",
    "\n",
    "# Check for OpenCV packages\n",
    "opencv_packages = [pkg for pkg in installed_packages if 'opencv' in pkg]\n",
    "print(opencv_packages)"
   ]
  },
  {
   "cell_type": "code",
   "execution_count": 18,
   "id": "4ec21825-d144-4b99-acbc-4a13e9ab6ee6",
   "metadata": {},
   "outputs": [
    {
     "name": "stderr",
     "output_type": "stream",
     "text": [
      "WARNING: Skipping opencv-python-headless as it is not installed.\n"
     ]
    }
   ],
   "source": [
    "!pip uninstall -y opencv-python-headless\n"
   ]
  },
  {
   "cell_type": "code",
   "execution_count": 19,
   "id": "2db222c9-b4f1-4bd0-9b5b-d2077b0fbc9c",
   "metadata": {},
   "outputs": [
    {
     "name": "stdout",
     "output_type": "stream",
     "text": [
      "Defaulting to user installation because normal site-packages is not writeable\n",
      "Collecting opencv-python\n",
      "  Downloading opencv_python-4.10.0.84-cp37-abi3-win_amd64.whl.metadata (20 kB)\n",
      "Requirement already satisfied: numpy>=1.21.2 in c:\\users\\sugiee\\appdata\\roaming\\python\\python312\\site-packages (from opencv-python) (1.26.4)\n",
      "Downloading opencv_python-4.10.0.84-cp37-abi3-win_amd64.whl (38.8 MB)\n",
      "   ---------------------------------------- 0.0/38.8 MB ? eta -:--:--\n",
      "   ---------------------------------------- 0.0/38.8 MB ? eta -:--:--\n",
      "   ---------------------------------------- 0.0/38.8 MB 325.1 kB/s eta 0:02:00\n",
      "   ---------------------------------------- 0.0/38.8 MB 325.1 kB/s eta 0:02:00\n",
      "   ---------------------------------------- 0.0/38.8 MB 245.8 kB/s eta 0:02:38\n",
      "   ---------------------------------------- 0.1/38.8 MB 326.8 kB/s eta 0:01:59\n",
      "   ---------------------------------------- 0.1/38.8 MB 326.8 kB/s eta 0:01:59\n",
      "   ---------------------------------------- 0.1/38.8 MB 399.4 kB/s eta 0:01:37\n",
      "   ---------------------------------------- 0.2/38.8 MB 435.7 kB/s eta 0:01:29\n",
      "   ---------------------------------------- 0.2/38.8 MB 540.4 kB/s eta 0:01:12\n",
      "   ---------------------------------------- 0.2/38.8 MB 528.4 kB/s eta 0:01:14\n",
      "   ---------------------------------------- 0.3/38.8 MB 548.9 kB/s eta 0:01:11\n",
      "   ---------------------------------------- 0.3/38.8 MB 575.5 kB/s eta 0:01:07\n",
      "   ---------------------------------------- 0.4/38.8 MB 691.2 kB/s eta 0:00:56\n",
      "    --------------------------------------- 0.5/38.8 MB 786.4 kB/s eta 0:00:49\n",
      "    --------------------------------------- 0.6/38.8 MB 841.6 kB/s eta 0:00:46\n",
      "    --------------------------------------- 0.6/38.8 MB 883.0 kB/s eta 0:00:44\n",
      "    --------------------------------------- 0.7/38.8 MB 887.5 kB/s eta 0:00:44\n",
      "    --------------------------------------- 0.7/38.8 MB 899.4 kB/s eta 0:00:43\n",
      "    --------------------------------------- 0.9/38.8 MB 1.1 MB/s eta 0:00:35\n",
      "   - -------------------------------------- 1.0/38.8 MB 1.1 MB/s eta 0:00:34\n",
      "   - -------------------------------------- 1.1/38.8 MB 1.2 MB/s eta 0:00:32\n",
      "   - -------------------------------------- 1.2/38.8 MB 1.2 MB/s eta 0:00:32\n",
      "   - -------------------------------------- 1.4/38.8 MB 1.3 MB/s eta 0:00:29\n",
      "   - -------------------------------------- 1.6/38.8 MB 1.5 MB/s eta 0:00:26\n",
      "   - -------------------------------------- 1.8/38.8 MB 1.5 MB/s eta 0:00:25\n",
      "   - -------------------------------------- 1.9/38.8 MB 1.6 MB/s eta 0:00:24\n",
      "   -- ------------------------------------- 2.0/38.8 MB 1.6 MB/s eta 0:00:24\n",
      "   -- ------------------------------------- 2.3/38.8 MB 1.8 MB/s eta 0:00:21\n",
      "   -- ------------------------------------- 2.6/38.8 MB 2.0 MB/s eta 0:00:19\n",
      "   -- ------------------------------------- 2.7/38.8 MB 2.0 MB/s eta 0:00:19\n",
      "   -- ------------------------------------- 2.9/38.8 MB 2.1 MB/s eta 0:00:18\n",
      "   --- ------------------------------------ 3.1/38.8 MB 2.2 MB/s eta 0:00:17\n",
      "   --- ------------------------------------ 3.2/38.8 MB 2.2 MB/s eta 0:00:17\n",
      "   --- ------------------------------------ 3.5/38.8 MB 2.3 MB/s eta 0:00:16\n",
      "   --- ------------------------------------ 3.8/38.8 MB 2.4 MB/s eta 0:00:15\n",
      "   ---- ----------------------------------- 4.0/38.8 MB 2.5 MB/s eta 0:00:14\n",
      "   ---- ----------------------------------- 4.2/38.8 MB 2.5 MB/s eta 0:00:14\n",
      "   ---- ----------------------------------- 4.4/38.8 MB 2.6 MB/s eta 0:00:14\n",
      "   ---- ----------------------------------- 4.7/38.8 MB 2.7 MB/s eta 0:00:13\n",
      "   ---- ----------------------------------- 4.8/38.8 MB 2.7 MB/s eta 0:00:13\n",
      "   ----- ---------------------------------- 5.1/38.8 MB 2.8 MB/s eta 0:00:13\n",
      "   ----- ---------------------------------- 5.4/38.8 MB 2.9 MB/s eta 0:00:12\n",
      "   ----- ---------------------------------- 5.5/38.8 MB 2.9 MB/s eta 0:00:12\n",
      "   ------ --------------------------------- 5.9/38.8 MB 3.0 MB/s eta 0:00:11\n",
      "   ------ --------------------------------- 6.3/38.8 MB 3.1 MB/s eta 0:00:11\n",
      "   ------ --------------------------------- 6.4/38.8 MB 3.1 MB/s eta 0:00:11\n",
      "   ------ --------------------------------- 6.7/38.8 MB 3.2 MB/s eta 0:00:11\n",
      "   ------- -------------------------------- 7.0/38.8 MB 3.2 MB/s eta 0:00:10\n",
      "   ------- -------------------------------- 7.3/38.8 MB 3.3 MB/s eta 0:00:10\n",
      "   ------- -------------------------------- 7.5/38.8 MB 3.3 MB/s eta 0:00:10\n",
      "   ------- -------------------------------- 7.7/38.8 MB 3.4 MB/s eta 0:00:10\n",
      "   -------- ------------------------------- 8.1/38.8 MB 3.5 MB/s eta 0:00:09\n",
      "   -------- ------------------------------- 8.4/38.8 MB 3.5 MB/s eta 0:00:09\n",
      "   -------- ------------------------------- 8.7/38.8 MB 3.6 MB/s eta 0:00:09\n",
      "   --------- ------------------------------ 8.9/38.8 MB 3.6 MB/s eta 0:00:09\n",
      "   --------- ------------------------------ 8.9/38.8 MB 3.6 MB/s eta 0:00:09\n",
      "   --------- ------------------------------ 9.3/38.8 MB 3.6 MB/s eta 0:00:09\n",
      "   ---------- ----------------------------- 9.9/38.8 MB 3.8 MB/s eta 0:00:08\n",
      "   ---------- ----------------------------- 10.1/38.8 MB 3.8 MB/s eta 0:00:08\n",
      "   ---------- ----------------------------- 10.3/38.8 MB 3.9 MB/s eta 0:00:08\n",
      "   ---------- ----------------------------- 10.5/38.8 MB 4.5 MB/s eta 0:00:07\n",
      "   ----------- ---------------------------- 10.9/38.8 MB 4.9 MB/s eta 0:00:06\n",
      "   ----------- ---------------------------- 11.1/38.8 MB 5.1 MB/s eta 0:00:06\n",
      "   ----------- ---------------------------- 11.3/38.8 MB 5.2 MB/s eta 0:00:06\n",
      "   ------------ --------------------------- 11.7/38.8 MB 5.4 MB/s eta 0:00:06\n",
      "   ------------ --------------------------- 11.9/38.8 MB 5.5 MB/s eta 0:00:05\n",
      "   ------------ --------------------------- 12.3/38.8 MB 5.6 MB/s eta 0:00:05\n",
      "   ------------ --------------------------- 12.5/38.8 MB 5.7 MB/s eta 0:00:05\n",
      "   ------------ --------------------------- 12.6/38.8 MB 5.6 MB/s eta 0:00:05\n",
      "   ------------- -------------------------- 12.7/38.8 MB 5.4 MB/s eta 0:00:05\n",
      "   ------------- -------------------------- 12.7/38.8 MB 5.3 MB/s eta 0:00:05\n",
      "   ------------- -------------------------- 12.8/38.8 MB 5.2 MB/s eta 0:00:06\n",
      "   ------------- -------------------------- 13.2/38.8 MB 5.4 MB/s eta 0:00:05\n",
      "   -------------- ------------------------- 13.6/38.8 MB 5.4 MB/s eta 0:00:05\n",
      "   -------------- ------------------------- 14.1/38.8 MB 5.6 MB/s eta 0:00:05\n",
      "   -------------- ------------------------- 14.3/38.8 MB 5.5 MB/s eta 0:00:05\n",
      "   -------------- ------------------------- 14.6/38.8 MB 5.6 MB/s eta 0:00:05\n",
      "   --------------- ------------------------ 14.7/38.8 MB 5.6 MB/s eta 0:00:05\n",
      "   --------------- ------------------------ 14.8/38.8 MB 5.5 MB/s eta 0:00:05\n",
      "   --------------- ------------------------ 14.8/38.8 MB 5.4 MB/s eta 0:00:05\n",
      "   --------------- ------------------------ 15.3/38.8 MB 5.6 MB/s eta 0:00:05\n",
      "   ---------------- ----------------------- 15.8/38.8 MB 5.6 MB/s eta 0:00:05\n",
      "   ---------------- ----------------------- 16.0/38.8 MB 5.5 MB/s eta 0:00:05\n",
      "   ---------------- ----------------------- 16.3/38.8 MB 5.6 MB/s eta 0:00:04\n",
      "   ----------------- ---------------------- 16.6/38.8 MB 5.6 MB/s eta 0:00:04\n",
      "   ----------------- ---------------------- 16.6/38.8 MB 5.5 MB/s eta 0:00:05\n",
      "   ----------------- ---------------------- 16.7/38.8 MB 5.4 MB/s eta 0:00:05\n",
      "   ----------------- ---------------------- 16.9/38.8 MB 5.4 MB/s eta 0:00:05\n",
      "   ----------------- ---------------------- 17.0/38.8 MB 5.4 MB/s eta 0:00:05\n",
      "   ----------------- ---------------------- 17.0/38.8 MB 5.4 MB/s eta 0:00:05\n",
      "   ----------------- ---------------------- 17.2/38.8 MB 5.1 MB/s eta 0:00:05\n",
      "   ------------------ --------------------- 17.6/38.8 MB 5.2 MB/s eta 0:00:05\n",
      "   ------------------ --------------------- 18.1/38.8 MB 5.3 MB/s eta 0:00:04\n",
      "   ------------------- -------------------- 18.6/38.8 MB 5.3 MB/s eta 0:00:04\n",
      "   ------------------- -------------------- 18.8/38.8 MB 5.4 MB/s eta 0:00:04\n",
      "   ------------------- -------------------- 19.0/38.8 MB 5.3 MB/s eta 0:00:04\n",
      "   -------------------- ------------------- 19.5/38.8 MB 5.5 MB/s eta 0:00:04\n",
      "   -------------------- ------------------- 19.8/38.8 MB 5.5 MB/s eta 0:00:04\n",
      "   -------------------- ------------------- 19.8/38.8 MB 5.3 MB/s eta 0:00:04\n",
      "   -------------------- ------------------- 19.9/38.8 MB 5.2 MB/s eta 0:00:04\n",
      "   -------------------- ------------------- 19.9/38.8 MB 5.1 MB/s eta 0:00:04\n",
      "   -------------------- ------------------- 20.3/38.8 MB 5.0 MB/s eta 0:00:04\n",
      "   --------------------- ------------------ 20.8/38.8 MB 5.3 MB/s eta 0:00:04\n",
      "   --------------------- ------------------ 21.1/38.8 MB 5.3 MB/s eta 0:00:04\n",
      "   ---------------------- ----------------- 21.7/38.8 MB 5.4 MB/s eta 0:00:04\n",
      "   ---------------------- ----------------- 21.9/38.8 MB 5.4 MB/s eta 0:00:04\n",
      "   ----------------------- ---------------- 22.4/38.8 MB 5.5 MB/s eta 0:00:04\n",
      "   ----------------------- ---------------- 22.7/38.8 MB 5.5 MB/s eta 0:00:03\n",
      "   ----------------------- ---------------- 23.2/38.8 MB 6.0 MB/s eta 0:00:03\n",
      "   ----------------------- ---------------- 23.3/38.8 MB 5.9 MB/s eta 0:00:03\n",
      "   ------------------------ --------------- 23.5/38.8 MB 5.8 MB/s eta 0:00:03\n",
      "   ------------------------ --------------- 23.8/38.8 MB 5.7 MB/s eta 0:00:03\n",
      "   ------------------------ --------------- 24.1/38.8 MB 5.7 MB/s eta 0:00:03\n",
      "   ------------------------- -------------- 24.6/38.8 MB 5.8 MB/s eta 0:00:03\n",
      "   ------------------------- -------------- 25.0/38.8 MB 6.1 MB/s eta 0:00:03\n",
      "   -------------------------- ------------- 25.5/38.8 MB 6.1 MB/s eta 0:00:03\n",
      "   -------------------------- ------------- 25.8/38.8 MB 6.1 MB/s eta 0:00:03\n",
      "   --------------------------- ------------ 26.3/38.8 MB 6.2 MB/s eta 0:00:03\n",
      "   --------------------------- ------------ 26.5/38.8 MB 6.2 MB/s eta 0:00:02\n",
      "   --------------------------- ------------ 27.0/38.8 MB 6.7 MB/s eta 0:00:02\n",
      "   ---------------------------- ----------- 27.4/38.8 MB 7.0 MB/s eta 0:00:02\n",
      "   ---------------------------- ----------- 27.9/38.8 MB 7.2 MB/s eta 0:00:02\n",
      "   ---------------------------- ----------- 28.1/38.8 MB 7.2 MB/s eta 0:00:02\n",
      "   ----------------------------- ---------- 28.3/38.8 MB 7.0 MB/s eta 0:00:02\n",
      "   ----------------------------- ---------- 28.7/38.8 MB 7.0 MB/s eta 0:00:02\n",
      "   ------------------------------ --------- 29.2/38.8 MB 7.2 MB/s eta 0:00:02\n",
      "   ------------------------------ --------- 29.5/38.8 MB 7.0 MB/s eta 0:00:02\n",
      "   ------------------------------ --------- 29.6/38.8 MB 6.8 MB/s eta 0:00:02\n",
      "   ------------------------------ --------- 29.6/38.8 MB 6.7 MB/s eta 0:00:02\n",
      "   ------------------------------ --------- 29.8/38.8 MB 6.5 MB/s eta 0:00:02\n",
      "   ------------------------------- -------- 30.2/38.8 MB 7.3 MB/s eta 0:00:02\n",
      "   ------------------------------- -------- 30.4/38.8 MB 7.1 MB/s eta 0:00:02\n",
      "   ------------------------------- -------- 31.0/38.8 MB 7.1 MB/s eta 0:00:02\n",
      "   -------------------------------- ------- 31.5/38.8 MB 7.3 MB/s eta 0:00:02\n",
      "   --------------------------------- ------ 32.1/38.8 MB 7.4 MB/s eta 0:00:01\n",
      "   --------------------------------- ------ 32.5/38.8 MB 7.4 MB/s eta 0:00:01\n",
      "   --------------------------------- ------ 33.0/38.8 MB 7.5 MB/s eta 0:00:01\n",
      "   ---------------------------------- ----- 33.1/38.8 MB 7.4 MB/s eta 0:00:01\n",
      "   ---------------------------------- ----- 33.3/38.8 MB 7.2 MB/s eta 0:00:01\n",
      "   ---------------------------------- ----- 33.7/38.8 MB 7.4 MB/s eta 0:00:01\n",
      "   ----------------------------------- ---- 34.2/38.8 MB 7.7 MB/s eta 0:00:01\n",
      "   ----------------------------------- ---- 34.7/38.8 MB 7.6 MB/s eta 0:00:01\n",
      "   ----------------------------------- ---- 34.7/38.8 MB 7.6 MB/s eta 0:00:01\n",
      "   ----------------------------------- ---- 34.7/38.8 MB 7.6 MB/s eta 0:00:01\n",
      "   ----------------------------------- ---- 34.7/38.8 MB 7.6 MB/s eta 0:00:01\n",
      "   ----------------------------------- ---- 34.7/38.8 MB 7.6 MB/s eta 0:00:01\n",
      "   ----------------------------------- ---- 34.7/38.8 MB 7.6 MB/s eta 0:00:01\n",
      "   ------------------------------------ --- 35.7/38.8 MB 6.7 MB/s eta 0:00:01\n",
      "   -------------------------------------- - 37.6/38.8 MB 7.7 MB/s eta 0:00:01\n",
      "   ---------------------------------------  38.1/38.8 MB 7.8 MB/s eta 0:00:01\n",
      "   ---------------------------------------  38.1/38.8 MB 7.8 MB/s eta 0:00:01\n",
      "   ---------------------------------------  38.5/38.8 MB 7.8 MB/s eta 0:00:01\n",
      "   ---------------------------------------  38.6/38.8 MB 7.6 MB/s eta 0:00:01\n",
      "   ---------------------------------------  38.8/38.8 MB 7.5 MB/s eta 0:00:01\n",
      "   ---------------------------------------  38.8/38.8 MB 7.5 MB/s eta 0:00:01\n",
      "   ---------------------------------------  38.8/38.8 MB 7.5 MB/s eta 0:00:01\n",
      "   ---------------------------------------  38.8/38.8 MB 7.5 MB/s eta 0:00:01\n",
      "   ---------------------------------------  38.8/38.8 MB 7.5 MB/s eta 0:00:01\n",
      "   ---------------------------------------  38.8/38.8 MB 7.5 MB/s eta 0:00:01\n",
      "   ---------------------------------------  38.8/38.8 MB 7.5 MB/s eta 0:00:01\n",
      "   ---------------------------------------  38.8/38.8 MB 7.5 MB/s eta 0:00:01\n",
      "   ---------------------------------------  38.8/38.8 MB 7.5 MB/s eta 0:00:01\n",
      "   ---------------------------------------  38.8/38.8 MB 7.5 MB/s eta 0:00:01\n",
      "   ---------------------------------------  38.8/38.8 MB 7.5 MB/s eta 0:00:01\n",
      "   ---------------------------------------  38.8/38.8 MB 7.5 MB/s eta 0:00:01\n",
      "   ---------------------------------------  38.8/38.8 MB 7.5 MB/s eta 0:00:01\n",
      "   ---------------------------------------  38.8/38.8 MB 7.5 MB/s eta 0:00:01\n",
      "   ---------------------------------------  38.8/38.8 MB 7.5 MB/s eta 0:00:01\n",
      "   ---------------------------------------  38.8/38.8 MB 7.5 MB/s eta 0:00:01\n",
      "   ---------------------------------------- 38.8/38.8 MB 4.8 MB/s eta 0:00:00\n",
      "Installing collected packages: opencv-python\n",
      "Successfully installed opencv-python-4.10.0.84\n"
     ]
    },
    {
     "name": "stderr",
     "output_type": "stream",
     "text": [
      "\n",
      "[notice] A new release of pip is available: 24.0 -> 24.2\n",
      "[notice] To update, run: python.exe -m pip install --upgrade pip\n"
     ]
    }
   ],
   "source": [
    "!pip install opencv-python\n"
   ]
  },
  {
   "cell_type": "code",
   "execution_count": 20,
   "id": "d4436f3b-ba44-4e74-8d16-f4ffeecb4aa2",
   "metadata": {},
   "outputs": [
    {
     "ename": "error",
     "evalue": "OpenCV(4.9.0) D:\\a\\opencv-python\\opencv-python\\opencv\\modules\\highgui\\src\\window.cpp:1272: error: (-2:Unspecified error) The function is not implemented. Rebuild the library with Windows, GTK+ 2.x or Cocoa support. If you are on Ubuntu or Debian, install libgtk2.0-dev and pkg-config, then re-run cmake or configure script in function 'cvShowImage'\n",
     "output_type": "error",
     "traceback": [
      "\u001b[1;31m---------------------------------------------------------------------------\u001b[0m",
      "\u001b[1;31merror\u001b[0m                                     Traceback (most recent call last)",
      "Cell \u001b[1;32mIn[20], line 9\u001b[0m\n\u001b[0;32m      6\u001b[0m cv2\u001b[38;5;241m.\u001b[39mputText(image, \u001b[38;5;124m'\u001b[39m\u001b[38;5;124mTest\u001b[39m\u001b[38;5;124m'\u001b[39m, (\u001b[38;5;241m10\u001b[39m, \u001b[38;5;241m50\u001b[39m), cv2\u001b[38;5;241m.\u001b[39mFONT_HERSHEY_SIMPLEX, \u001b[38;5;241m1\u001b[39m, (\u001b[38;5;241m255\u001b[39m, \u001b[38;5;241m255\u001b[39m, \u001b[38;5;241m255\u001b[39m), \u001b[38;5;241m2\u001b[39m)\n\u001b[0;32m      8\u001b[0m \u001b[38;5;66;03m# Try to display the image using OpenCV\u001b[39;00m\n\u001b[1;32m----> 9\u001b[0m cv2\u001b[38;5;241m.\u001b[39mimshow(\u001b[38;5;124m'\u001b[39m\u001b[38;5;124mTest Image\u001b[39m\u001b[38;5;124m'\u001b[39m, image)\n\u001b[0;32m     10\u001b[0m cv2\u001b[38;5;241m.\u001b[39mwaitKey(\u001b[38;5;241m0\u001b[39m)\n\u001b[0;32m     11\u001b[0m cv2\u001b[38;5;241m.\u001b[39mdestroyAllWindows()\n",
      "\u001b[1;31merror\u001b[0m: OpenCV(4.9.0) D:\\a\\opencv-python\\opencv-python\\opencv\\modules\\highgui\\src\\window.cpp:1272: error: (-2:Unspecified error) The function is not implemented. Rebuild the library with Windows, GTK+ 2.x or Cocoa support. If you are on Ubuntu or Debian, install libgtk2.0-dev and pkg-config, then re-run cmake or configure script in function 'cvShowImage'\n"
     ]
    }
   ],
   "source": [
    "import cv2\n",
    "import numpy as np\n",
    "\n",
    "# Create a simple image\n",
    "image = np.zeros((100, 100, 3), dtype=np.uint8)\n",
    "cv2.putText(image, 'Test', (10, 50), cv2.FONT_HERSHEY_SIMPLEX, 1, (255, 255, 255), 2)\n",
    "\n",
    "# Try to display the image using OpenCV\n",
    "cv2.imshow('Test Image', image)\n",
    "cv2.waitKey(0)\n",
    "cv2.destroyAllWindows()\n"
   ]
  },
  {
   "cell_type": "code",
   "execution_count": 1,
   "id": "71298ccb-7095-4529-a4c2-b889f6d529f5",
   "metadata": {},
   "outputs": [
    {
     "name": "stdout",
     "output_type": "stream",
     "text": [
      "Note: you may need to restart the kernel to use updated packages.\n"
     ]
    },
    {
     "name": "stderr",
     "output_type": "stream",
     "text": [
      "WARNING: Skipping opencv-python as it is not installed.\n",
      "WARNING: Skipping opencv-python-headless as it is not installed.\n"
     ]
    }
   ],
   "source": [
    "pip uninstall -y opencv-python opencv-python-headless\n"
   ]
  },
  {
   "cell_type": "code",
   "execution_count": 3,
   "id": "8d10e36c-cf23-4c5a-9634-7d1a9ab99ce3",
   "metadata": {},
   "outputs": [
    {
     "name": "stdout",
     "output_type": "stream",
     "text": [
      "Collecting opencv-python\n",
      "  Using cached opencv_python-4.10.0.84-cp37-abi3-win_amd64.whl.metadata (20 kB)\n",
      "Requirement already satisfied: numpy>=1.21.2 in c:\\users\\sugiee\\anaconda3\\lib\\site-packages (from opencv-python) (1.26.4)\n",
      "Using cached opencv_python-4.10.0.84-cp37-abi3-win_amd64.whl (38.8 MB)\n",
      "Installing collected packages: opencv-python\n",
      "Successfully installed opencv-python-4.10.0.84\n",
      "Note: you may need to restart the kernel to use updated packages.\n"
     ]
    }
   ],
   "source": [
    "pip install opencv-python\n"
   ]
  },
  {
   "cell_type": "code",
   "execution_count": 2,
   "id": "fe32495d-525a-4116-a5cd-5adfd1120821",
   "metadata": {},
   "outputs": [
    {
     "data": {
      "image/png": "[encoded data removed]",
      "text/plain": [
       "<Figure size 640x480 with 1 Axes>"
      ]
     },
     "metadata": {},
     "output_type": "display_data"
    }
   ],
   "source": [
    "import cv2\n",
    "import numpy as np\n",
    "\n",
    "# Create a simple image\n",
    "image = np.zeros((100, 100, 3), dtype=np.uint8)\n",
    "cv2.putText(image, 'Test', (10, 50), cv2.FONT_HERSHEY_SIMPLEX, 1, (255, 255, 255), 2)\n",
    "\n",
    "# Display the image using Matplotlib (if cv2.imshow() does not work)\n",
    "import matplotlib.pyplot as plt\n",
    "image_rgb = cv2.cvtColor(image, cv2.COLOR_BGR2RGB)\n",
    "plt.imshow(image_rgb)\n",
    "plt.axis('off')\n",
    "plt.show()\n"
   ]
  },
  {
   "cell_type": "code",
   "execution_count": 2,
   "id": "da59101a-675c-4cf5-9520-83a62bff11ab",
   "metadata": {},
   "outputs": [
    {
     "name": "stdout",
     "output_type": "stream",
     "text": [
      "Collecting images for Rock\n"
     ]
    },
    {
     "ename": "KeyboardInterrupt",
     "evalue": "",
     "output_type": "error",
     "traceback": [
      "\u001b[1;31m---------------------------------------------------------------------------\u001b[0m",
      "\u001b[1;31mKeyboardInterrupt\u001b[0m                         Traceback (most recent call last)",
      "Cell \u001b[1;32mIn[2], line 31\u001b[0m\n\u001b[0;32m     29\u001b[0m cv2\u001b[38;5;241m.\u001b[39mimwrite(img_name, frame)\n\u001b[0;32m     30\u001b[0m cv2\u001b[38;5;241m.\u001b[39mimshow(\u001b[38;5;124m'\u001b[39m\u001b[38;5;124mframe\u001b[39m\u001b[38;5;124m'\u001b[39m, frame)\n\u001b[1;32m---> 31\u001b[0m time\u001b[38;5;241m.\u001b[39msleep(\u001b[38;5;241m2\u001b[39m)\n\u001b[0;32m     33\u001b[0m \u001b[38;5;28;01mif\u001b[39;00m cv2\u001b[38;5;241m.\u001b[39mwaitKey(\u001b[38;5;241m1\u001b[39m) \u001b[38;5;241m&\u001b[39m \u001b[38;5;241m0xFF\u001b[39m \u001b[38;5;241m==\u001b[39m \u001b[38;5;28mord\u001b[39m(\u001b[38;5;124m'\u001b[39m\u001b[38;5;124mq\u001b[39m\u001b[38;5;124m'\u001b[39m):\n\u001b[0;32m     34\u001b[0m     \u001b[38;5;28;01mbreak\u001b[39;00m\n",
      "\u001b[1;31mKeyboardInterrupt\u001b[0m: "
     ]
    }
   ],
   "source": [
    "import cv2\n",
    "import time\n",
    "import os\n",
    "import uuid\n",
    "\n",
    "img_path = 'Tensorflow/workspace/images/allimg'\n",
    "labels = ['Rock', 'Paper', 'Scissor']\n",
    "noof_img = 45\n",
    "\n",
    "for l in labels:\n",
    "    # Create the directory if it doesn't exist\n",
    "    os.makedirs(os.path.join(img_path, l), exist_ok=True)\n",
    "    \n",
    "    cap = cv2.VideoCapture(0)\n",
    "    if not cap.isOpened():\n",
    "        print(f\"Error: Could not open camera for label '{l}'\")\n",
    "        continue\n",
    "\n",
    "    print(f'Collecting images for {l}')\n",
    "    time.sleep(5)\n",
    "\n",
    "    for img_no in range(noof_img):\n",
    "        ret, frame = cap.read()\n",
    "        if not ret:\n",
    "            print(f\"Error: Failed to capture image {img_no} for label '{l}'\")\n",
    "            continue\n",
    "\n",
    "        img_name = os.path.join(img_path, l, l + '.' + '{}.jpg'.format(str(uuid.uuid1())))\n",
    "        cv2.imwrite(img_name, frame)\n",
    "        cv2.imshow('frame', frame)\n",
    "        time.sleep(2)\n",
    "\n",
    "        if cv2.waitKey(1) & 0xFF == ord('q'):\n",
    "            break\n",
    "    \n",
    "    cap.release()\n",
    "\n",
    "cv2.destroyAllWindows()\n"
   ]
  },
  {
   "cell_type": "code",
   "execution_count": 1,
   "id": "c2be16cc-3126-4461-b4ab-1b51ce617934",
   "metadata": {},
   "outputs": [],
   "source": [
    "import cv2\n",
    "\n",
    "cap = cv2.VideoCapture(0)\n",
    "\n",
    "if not cap.isOpened():\n",
    "    print(\"Error: Could not open camera\")\n",
    "else:\n",
    "    ret, frame = cap.read()\n",
    "    if ret:\n",
    "        cv2.imshow('Test Frame', frame)\n",
    "        cv2.waitKey(0)  # Wait for a key press to close the window\n",
    "    else:\n",
    "        print(\"Error: Could not read frame\")\n",
    "\n",
    "cap.release()\n",
    "cv2.destroyAllWindows()\n"
   ]
  },
  {
   "cell_type": "code",
   "execution_count": 12,
   "id": "239efbb2-071f-4d62-9863-50c398f3fe95",
   "metadata": {},
   "outputs": [
    {
     "name": "stdout",
     "output_type": "stream",
     "text": [
      "Camera found at index 0\n",
      "No camera found at index 1\n",
      "No camera found at index 2\n",
      "No camera found at index 3\n",
      "No camera found at index 4\n",
      "No camera found at index 5\n",
      "No camera found at index 6\n",
      "No camera found at index 7\n",
      "No camera found at index 8\n",
      "No camera found at index 9\n"
     ]
    }
   ],
   "source": [
    "import cv2\n",
    "\n",
    "def find_camera_index(max_index=10):\n",
    "    for index in range(max_index):\n",
    "        cap = cv2.VideoCapture(index)\n",
    "        if cap.isOpened():\n",
    "            print(f\"Camera found at index {index}\")\n",
    "            cap.release()\n",
    "        else:\n",
    "            print(f\"No camera found at index {index}\")\n",
    "\n",
    "# Test camera indices from 0 to max_index-1\n",
    "find_camera_index()\n"
   ]
  },
  {
   "cell_type": "code",
   "execution_count": 2,
   "id": "77c57fea-e1ec-4ddd-b751-71239e69585e",
   "metadata": {},
   "outputs": [
    {
     "name": "stdout",
     "output_type": "stream",
     "text": [
      "Camera is opened successfully. Press 'q' to quit.\n"
     ]
    },
    {
     "ename": "KeyboardInterrupt",
     "evalue": "",
     "output_type": "error",
     "traceback": [
      "\u001b[1;31m---------------------------------------------------------------------------\u001b[0m",
      "\u001b[1;31mKeyboardInterrupt\u001b[0m                         Traceback (most recent call last)",
      "Cell \u001b[1;32mIn[2], line 27\u001b[0m\n\u001b[0;32m     24\u001b[0m     cap\u001b[38;5;241m.\u001b[39mrelease()\n\u001b[0;32m     25\u001b[0m     cv2\u001b[38;5;241m.\u001b[39mdestroyAllWindows()\n\u001b[1;32m---> 27\u001b[0m test_camera()\n",
      "Cell \u001b[1;32mIn[2], line 13\u001b[0m, in \u001b[0;36mtest_camera\u001b[1;34m()\u001b[0m\n\u001b[0;32m     10\u001b[0m \u001b[38;5;28mprint\u001b[39m(\u001b[38;5;124m\"\u001b[39m\u001b[38;5;124mCamera is opened successfully. Press \u001b[39m\u001b[38;5;124m'\u001b[39m\u001b[38;5;124mq\u001b[39m\u001b[38;5;124m'\u001b[39m\u001b[38;5;124m to quit.\u001b[39m\u001b[38;5;124m\"\u001b[39m)\n\u001b[0;32m     12\u001b[0m \u001b[38;5;28;01mwhile\u001b[39;00m \u001b[38;5;28;01mTrue\u001b[39;00m:\n\u001b[1;32m---> 13\u001b[0m     ret, frame \u001b[38;5;241m=\u001b[39m cap\u001b[38;5;241m.\u001b[39mread()\n\u001b[0;32m     14\u001b[0m     \u001b[38;5;28;01mif\u001b[39;00m \u001b[38;5;129;01mnot\u001b[39;00m ret:\n\u001b[0;32m     15\u001b[0m         \u001b[38;5;28mprint\u001b[39m(\u001b[38;5;124m\"\u001b[39m\u001b[38;5;124mError: Could not read frame\u001b[39m\u001b[38;5;124m\"\u001b[39m)\n",
      "\u001b[1;31mKeyboardInterrupt\u001b[0m: "
     ]
    }
   ],
   "source": [
    "import cv2\n",
    "\n",
    "def test_camera():\n",
    "    cap = cv2.VideoCapture(0)\n",
    "    \n",
    "    if not cap.isOpened():\n",
    "        print(\"Error: Could not open camera\")\n",
    "        return\n",
    "\n",
    "    print(\"Camera is opened successfully. Press 'q' to quit.\")\n",
    "    \n",
    "    while True:\n",
    "        ret, frame = cap.read()\n",
    "        if not ret:\n",
    "            print(\"Error: Could not read frame\")\n",
    "            break\n",
    "\n",
    "        cv2.imshow('Test Frame', frame)\n",
    "\n",
    "        # Add a small delay to reduce CPU usage\n",
    "        if cv2.waitKey(1) & 0xFF == ord('q'):\n",
    "            break\n",
    "\n",
    "    cap.release()\n",
    "    cv2.destroyAllWindows()\n",
    "\n",
    "test_camera()\n"
   ]
  },
  {
   "cell_type": "code",
   "execution_count": 3,
   "id": "ac5a44bf-8028-46fa-b222-052bd4b8d5fc",
   "metadata": {},
   "outputs": [
    {
     "name": "stdout",
     "output_type": "stream",
     "text": [
      "Camera found at index 0\n",
      "Camera is opened successfully. Press 'q' to quit.\n"
     ]
    },
    {
     "ename": "KeyboardInterrupt",
     "evalue": "",
     "output_type": "error",
     "traceback": [
      "\u001b[1;31m---------------------------------------------------------------------------\u001b[0m",
      "\u001b[1;31mKeyboardInterrupt\u001b[0m                         Traceback (most recent call last)",
      "Cell \u001b[1;32mIn[3], line 49\u001b[0m\n\u001b[0;32m     46\u001b[0m     cap\u001b[38;5;241m.\u001b[39mrelease()\n\u001b[0;32m     47\u001b[0m     cv2\u001b[38;5;241m.\u001b[39mdestroyAllWindows()\n\u001b[1;32m---> 49\u001b[0m test_camera()\n",
      "Cell \u001b[1;32mIn[3], line 21\u001b[0m, in \u001b[0;36mtest_camera\u001b[1;34m()\u001b[0m\n\u001b[0;32m     18\u001b[0m \u001b[38;5;28mprint\u001b[39m(\u001b[38;5;124m\"\u001b[39m\u001b[38;5;124mCamera is opened successfully. Press \u001b[39m\u001b[38;5;124m'\u001b[39m\u001b[38;5;124mq\u001b[39m\u001b[38;5;124m'\u001b[39m\u001b[38;5;124m to quit.\u001b[39m\u001b[38;5;124m\"\u001b[39m)\n\u001b[0;32m     20\u001b[0m \u001b[38;5;28;01mwhile\u001b[39;00m \u001b[38;5;28;01mTrue\u001b[39;00m:\n\u001b[1;32m---> 21\u001b[0m     ret, frame \u001b[38;5;241m=\u001b[39m cap\u001b[38;5;241m.\u001b[39mread()\n\u001b[0;32m     22\u001b[0m     \u001b[38;5;28;01mif\u001b[39;00m \u001b[38;5;129;01mnot\u001b[39;00m ret:\n\u001b[0;32m     23\u001b[0m         \u001b[38;5;28mprint\u001b[39m(\u001b[38;5;124m\"\u001b[39m\u001b[38;5;124mError: Could not read frame\u001b[39m\u001b[38;5;124m\"\u001b[39m)\n",
      "\u001b[1;31mKeyboardInterrupt\u001b[0m: "
     ]
    }
   ],
   "source": [
    "import cv2\n",
    "\n",
    "def test_camera():\n",
    "    index = 0\n",
    "    while index < 10:  # Try up to 10 different camera indices\n",
    "        cap = cv2.VideoCapture(index)\n",
    "        if cap.isOpened():\n",
    "            print(f\"Camera found at index {index}\")\n",
    "            break\n",
    "        else:\n",
    "            print(f\"No camera found at index {index}\")\n",
    "            index += 1\n",
    "\n",
    "    if not cap.isOpened():\n",
    "        print(\"Error: Could not open any camera\")\n",
    "        return\n",
    "\n",
    "    print(\"Camera is opened successfully. Press 'q' to quit.\")\n",
    "    \n",
    "    while True:\n",
    "        ret, frame = cap.read()\n",
    "        if not ret:\n",
    "            print(\"Error: Could not read frame\")\n",
    "            break\n",
    "        \n",
    "        # Get frame dimensions\n",
    "        height, width, _ = frame.shape\n",
    "\n",
    "        # Define center point\n",
    "        center_x, center_y = width // 2, height // 2\n",
    "\n",
    "        # Draw center marker (crosshair)\n",
    "        cv2.line(frame, (center_x - 20, center_y), (center_x + 20, center_y), (0, 255, 0), 2)\n",
    "        cv2.line(frame, (center_x, center_y - 20), (center_x, center_y + 20), (0, 255, 0), 2)\n",
    "\n",
    "        # Draw horizontal and vertical lines across the frame\n",
    "        cv2.line(frame, (0, center_y), (width, center_y), (0, 0, 255), 1)\n",
    "        cv2.line(frame, (center_x, 0), (center_x, height), (0, 0, 255), 1)\n",
    "\n",
    "        # Display the frame with markers and lines\n",
    "        cv2.imshow('Test Frame', frame)\n",
    "\n",
    "        if cv2.waitKey(1) & 0xFF == ord('q'):\n",
    "            break\n",
    "\n",
    "    cap.release()\n",
    "    cv2.destroyAllWindows()\n",
    "\n",
    "test_camera()\n"
   ]
  },
  {
   "cell_type": "code",
   "execution_count": 4,
   "id": "e7531def-15d9-4440-9147-ae2b90bc8eda",
   "metadata": {},
   "outputs": [
    {
     "name": "stdout",
     "output_type": "stream",
     "text": [
      "Camera found at index 0\n",
      "Camera is opened successfully. Press 'q' to quit.\n"
     ]
    },
    {
     "ename": "KeyboardInterrupt",
     "evalue": "",
     "output_type": "error",
     "traceback": [
      "\u001b[1;31m---------------------------------------------------------------------------\u001b[0m",
      "\u001b[1;31mKeyboardInterrupt\u001b[0m                         Traceback (most recent call last)",
      "Cell \u001b[1;32mIn[4], line 45\u001b[0m\n\u001b[0;32m     42\u001b[0m     cap\u001b[38;5;241m.\u001b[39mrelease()\n\u001b[0;32m     43\u001b[0m     cv2\u001b[38;5;241m.\u001b[39mdestroyAllWindows()\n\u001b[1;32m---> 45\u001b[0m test_camera()\n",
      "Cell \u001b[1;32mIn[4], line 21\u001b[0m, in \u001b[0;36mtest_camera\u001b[1;34m()\u001b[0m\n\u001b[0;32m     18\u001b[0m \u001b[38;5;28mprint\u001b[39m(\u001b[38;5;124m\"\u001b[39m\u001b[38;5;124mCamera is opened successfully. Press \u001b[39m\u001b[38;5;124m'\u001b[39m\u001b[38;5;124mq\u001b[39m\u001b[38;5;124m'\u001b[39m\u001b[38;5;124m to quit.\u001b[39m\u001b[38;5;124m\"\u001b[39m)\n\u001b[0;32m     20\u001b[0m \u001b[38;5;28;01mwhile\u001b[39;00m \u001b[38;5;28;01mTrue\u001b[39;00m:\n\u001b[1;32m---> 21\u001b[0m     ret, frame \u001b[38;5;241m=\u001b[39m cap\u001b[38;5;241m.\u001b[39mread()\n\u001b[0;32m     22\u001b[0m     \u001b[38;5;28;01mif\u001b[39;00m \u001b[38;5;129;01mnot\u001b[39;00m ret:\n\u001b[0;32m     23\u001b[0m         \u001b[38;5;28mprint\u001b[39m(\u001b[38;5;124m\"\u001b[39m\u001b[38;5;124mError: Could not read frame\u001b[39m\u001b[38;5;124m\"\u001b[39m)\n",
      "\u001b[1;31mKeyboardInterrupt\u001b[0m: "
     ]
    }
   ],
   "source": [
    "import cv2\n",
    "\n",
    "def test_camera():\n",
    "    index = 0\n",
    "    while index < 10:  # Try up to 10 different camera indices\n",
    "        cap = cv2.VideoCapture(index)\n",
    "        if cap.isOpened():\n",
    "            print(f\"Camera found at index {index}\")\n",
    "            break\n",
    "        else:\n",
    "            print(f\"No camera found at index {index}\")\n",
    "            index += 1\n",
    "\n",
    "    if not cap.isOpened():\n",
    "        print(\"Error: Could not open any camera\")\n",
    "        return\n",
    "\n",
    "    print(\"Camera is opened successfully. Press 'q' to quit.\")\n",
    "    \n",
    "    while True:\n",
    "        ret, frame = cap.read()\n",
    "        if not ret:\n",
    "            print(\"Error: Could not read frame\")\n",
    "            break\n",
    "        \n",
    "        # Get frame dimensions\n",
    "        height, width, _ = frame.shape\n",
    "\n",
    "        # Define center point\n",
    "        center_x, center_y = width // 2, height // 2\n",
    "\n",
    "        # Draw horizontal and vertical lines across the frame\n",
    "        cv2.line(frame, (0, center_y), (width, center_y), (0, 0, 255), 2)\n",
    "        cv2.line(frame, (center_x, 0), (center_x, height), (0, 0, 255), 2)\n",
    "\n",
    "        # Display the frame with markers and lines\n",
    "        cv2.imshow('Test Frame', frame)\n",
    "\n",
    "        if cv2.waitKey(1) & 0xFF == ord('q'):\n",
    "            break\n",
    "\n",
    "    cap.release()\n",
    "    cv2.destroyAllWindows()\n",
    "\n",
    "test_camera()\n"
   ]
  },
  {
   "cell_type": "code",
   "execution_count": 6,
   "id": "65aaff23-2496-4d6a-b40d-e35582e808eb",
   "metadata": {},
   "outputs": [
    {
     "name": "stdout",
     "output_type": "stream",
     "text": [
      "No camera found at index 0\n",
      "No camera found at index 1\n",
      "No camera found at index 2\n",
      "No camera found at index 3\n",
      "No camera found at index 4\n",
      "No camera found at index 5\n",
      "No camera found at index 6\n",
      "No camera found at index 7\n",
      "No camera found at index 8\n",
      "No camera found at index 9\n",
      "No camera found at index 10\n",
      "No camera found at index 11\n",
      "No camera found at index 12\n",
      "No camera found at index 13\n",
      "No camera found at index 14\n",
      "No camera found at index 15\n",
      "No camera found at index 16\n",
      "No camera found at index 17\n",
      "No camera found at index 18\n",
      "No camera found at index 19\n",
      "Error: Could not open any camera\n"
     ]
    }
   ],
   "source": [
    "import cv2\n",
    "\n",
    "def test_camera():\n",
    "    found_camera = False\n",
    "\n",
    "    for index in range(20):  # Increase range if necessary\n",
    "        cap = cv2.VideoCapture(index)\n",
    "        if cap.isOpened():\n",
    "            print(f\"Camera found at index {index}\")\n",
    "            found_camera = True\n",
    "            break\n",
    "        else:\n",
    "            print(f\"No camera found at index {index}\")\n",
    "\n",
    "    if not found_camera:\n",
    "        print(\"Error: Could not open any camera\")\n",
    "        return\n",
    "\n",
    "    print(\"Camera is opened successfully. Press 'q' to quit.\")\n",
    "\n",
    "    while True:\n",
    "        ret, frame = cap.read()\n",
    "        if not ret:\n",
    "            print(\"Error: Could not read frame\")\n",
    "            break\n",
    "\n",
    "        # Get frame dimensions\n",
    "        height, width, _ = frame.shape\n",
    "\n",
    "        # Define center point\n",
    "        center_x, center_y = width // 2, height // 2\n",
    "\n",
    "        # Draw horizontal and vertical lines across the frame\n",
    "        cv2.line(frame, (0, center_y), (width, center_y), (0, 0, 255), 2)\n",
    "        cv2.line(frame, (center_x, 0), (center_x, height), (0, 0, 255), 2)\n",
    "\n",
    "        # Display the frame with markers and lines\n",
    "        cv2.imshow('Test Frame', frame)\n",
    "\n",
    "        if cv2.waitKey(1) & 0xFF == ord('q'):\n",
    "            break\n",
    "\n",
    "    cap.release()\n",
    "    cv2.destroyAllWindows()\n",
    "\n",
    "test_camera()\n"
   ]
  },
  {
   "cell_type": "code",
   "execution_count": 1,
   "id": "375ed4db-0e68-425b-9c77-5cb443fe3b89",
   "metadata": {},
   "outputs": [],
   "source": [
    "import cv2\n",
    "\n",
    "cap = cv2.VideoCapture(0)  # Try index 0 first\n",
    "if not cap.isOpened():\n",
    "    print(\"Error: Could not open camera.\")\n",
    "else:\n",
    "    ret, frame = cap.read()\n",
    "    if not ret:\n",
    "        print(\"Error: Failed to capture image.\")\n",
    "    else:\n",
    "        cv2.imshow('Camera Test', frame)\n",
    "        cv2.waitKey(0)\n",
    "        cv2.destroyAllWindows()\n",
    "    cap.release()\n"
   ]
  },
  {
   "cell_type": "code",
   "execution_count": null,
   "id": "80e53f87-d559-466e-9d0f-71617ec2c39e",
   "metadata": {},
   "outputs": [],
   "source": []
  }
 ],
 "metadata": {
  "kernelspec": {
   "display_name": "Python 3 (ipykernel)",
   "language": "python",
   "name": "python3"
  },
  "language_info": {
   "codemirror_mode": {
    "name": "ipython",
    "version": 3
   },
   "file_extension": ".py",
   "mimetype": "text/x-python",
   "name": "python",
   "nbconvert_exporter": "python",
   "pygments_lexer": "ipython3",
   "version": "3.11.7"
  }
 },
 "nbformat": 4,
 "nbformat_minor": 5
}
